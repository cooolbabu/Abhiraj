{
  "nbformat": 4,
  "nbformat_minor": 0,
  "metadata": {
    "colab": {
      "provenance": [],

      "authorship_tag": "ABX9TyMwoTJzFhMCQkTZj8BzUW4Y",
      "include_colab_link": true
    },
    "kernelspec": {
      "name": "python3",
      "display_name": "Python 3"
    },
    "language_info": {
      "name": "python"
    }
  },
  "cells": [
    {
      "cell_type": "markdown",
      "metadata": {
        "id": "view-in-github",
        "colab_type": "text"
      },
      "source": [
        "<a href=\"https://colab.research.google.com/github/cooolbabu/Abhiraj/blob/main/Python_1.ipynb\" target=\"_parent\"><img src=\"https://colab.research.google.com/assets/colab-badge.svg\" alt=\"Open In Colab\"/></a>"
      ]
    },
    {
      "cell_type": "markdown",
      "source": [
        "# First Python program to read text and print text\n",
        "\n",
        "https://www.w3schools.com/python/"
      ],
      "metadata": {
        "id": "uMoRc62GJxrh"
      }
    },
    {
      "cell_type": "code",
      "execution_count": 8,
      "metadata": {
        "colab": {
          "base_uri": "https://localhost:8080/"
        },
        "id": "5q9Oix31I4qt",

        "outputId": "d6cae60b-5a69-40e0-ca81-9065d0b539c9"

      },
      "outputs": [
        {
          "output_type": "stream",
          "name": "stdout",
          "text": [

            "Hello Abhiraj Angara, my (BucchiKans)\n"

          ]
        }
      ],
      "source": [
        "# print statement\n",
        "\n",
        "print(\"Hello Abhiraj Angara, my (BucchiKans)\")"
      ]
    },
    {
      "cell_type": "code",
      "source": [
        "username = \"Abhiraj\" # string\n",
        "age = 13 # integer. Has no decimal places\n",
        "height = 4.9 # Float has decimal places\n",
        "\n",
        "# Lets print these variables\n",
        "# print is used to show the values assigned to variables\n",
        "\n",
        "print(username, age, height)\n"
      ],
      "metadata": {
        "colab": {
          "base_uri": "https://localhost:8080/"
        },
        "id": "SYjdGn1fKO0l",

        "outputId": "763daa4e-be36-4f01-dc5b-53c80df28e04"
      },
      "execution_count": 9,

      "outputs": [
        {
          "output_type": "stream",
          "name": "stdout",
          "text": [
            "Abhiraj 13 4.9\n"
          ]
        }
      ]
    },
    {
      "cell_type": "code",
      "source": [
        "# Let's print it nicely\n",
        "# Notice the letter f. It stands for \"formatting\". We are printing a nicely formatted string\n",
        "\n",
        "print(f\"My name is {username}, I am {age} and my height is {height}\")"
      ],
      "metadata": {
        "colab": {
          "base_uri": "https://localhost:8080/"
        },
        "id": "1MentinvK0Y3",

        "outputId": "f08223fd-2b96-4205-a6f4-7c2d0c9fc2f6"
      },
      "execution_count": 10,

      "outputs": [
        {
          "output_type": "stream",
          "name": "stdout",
          "text": [
            "My name is Abhiraj, I am 13 and my height is 4.9\n"
          ]
        }
      ]
    },
    {
      "cell_type": "markdown",
      "source": [
        "## Exercise time"
      ],
      "metadata": {
        "id": "6SfSe3OtLTVh"
      }
    },
    {
      "cell_type": "code",
      "source": [
        "# Let's print mom's name nicely. fill in the blanks when you see -fill-\n",
        "\n",
        "mom_name = \"<fill in mom's name>\"\n",
        "\n",
        "print(f\"My mom's name is {mom_name}.\")"
      ],
      "metadata": {
        "colab": {
          "base_uri": "https://localhost:8080/"
        },
        "id": "3L9PaJ1aLSBN",

        "outputId": "a813a72f-0ef9-48a8-c57a-3a4192fed637"
      },
      "execution_count": 11,
      "outputs": [
        {
          "output_type": "stream",
          "name": "stdout",
          "text": [
            "My mom's name is <fill in mom's name>.\n"
          ]
        }
      ]
    },
    {
      "cell_type": "code",
      "source": [
        "# Let's print your home address\n",
        "# Step : Assign values to variables\n",
        "\n",
        "\n",
        "house_no =\n",
        "street_name=\"\"\n",
        "city_name = \"\"\n",
        "zip_code = \"\"\n",
        "state_code = \"\"\n",
        "\n",
        "# print home address like this. Notice three lines\n",
        "#    16371 Beverly Dr\n",
        "#    Eden Prairie\n",
        "#    MN 55347\n",
        "\n",
        "print(f\"<Fill in house number and street name>\")\n",
        "print(f\"<Fill in city name\")\n",
        "print(f\"<Fill in state code and zip code>\")\n",
        "\n"
      ],
      "metadata": {
        "id": "Z8AFgZmDMgVS",

        "outputId": "3bea321d-61d3-47b6-b2d5-6e950007912f",

        "colab": {
          "base_uri": "https://localhost:8080/",
          "height": 144
        }
      },

      "execution_count": 13,

      "outputs": [
        {
          "output_type": "error",
          "ename": "SyntaxError",

          "evalue": "invalid syntax (<ipython-input-13-387e74536c3e>, line 3)",
          "traceback": [
            "\u001b[0;36m  File \u001b[0;32m\"<ipython-input-13-387e74536c3e>\"\u001b[0;36m, line \u001b[0;32m3\u001b[0m\n\u001b[0;31m    house_no =\u001b[0m\n\u001b[0m              ^\u001b[0m\n\u001b[0;31mSyntaxError\u001b[0m\u001b[0;31m:\u001b[0m invalid syntax\n"

          ]
        }
      ]
    },
    {
      "cell_type": "markdown",
      "source": [
        "# Inputs\n",
        "\n"
      ],
      "metadata": {
        "id": "mjPfhJDZNVZ8"
      }
    },
    {
      "cell_type": "code",
      "source": [
        "# input function is used to capture inputs\n",
        "# Prompt message is passed as a parameter\n",
        "# Output of the function is assigned to a variable\n",
        "# print is used to show the values assigned to a variable\n",
        "\n",
        "username = input(\"Enter username:\")\n",
        "print(\"Username is: \" + username)"
      ],
      "metadata": {
        "colab": {
          "base_uri": "https://localhost:8080/"
        },
        "id": "fJK7lnw8Noli",

        "outputId": "3196496a-7b93-47a9-cfa4-10fa10d8474b"
      },
      "execution_count": 14,

      "outputs": [
        {
          "output_type": "stream",
          "name": "stdout",
          "text": [
            "Enter username:Abhi\n",
            "Username is: Abhi\n"
          ]
        }
      ]
    },
    {
      "cell_type": "code",
      "source": [
        "# This is similar to the previous cell. Here we are asking for user input\n",
        "\n",
        "username = input(\"Enter username:\")\n",
        "age = input(\"Age:\")\n",
        "height = input(\"Height:\")\n",
        "\n",
        "print(f\"My name is {username}, I am {age} and my height is {height}\")"
      ],
      "metadata": {
        "colab": {
          "base_uri": "https://localhost:8080/"
        },
        "id": "4dJI96dXOpot",
        "outputId": "99260e3b-4a9b-4e6b-c588-79612106a51e"
      },

      "execution_count": 7,

      "outputs": [
        {
          "output_type": "stream",
          "name": "stdout",
          "text": [
            "Enter username:Abhiraj\n",
            "Age:13\n",
            "Height:4.9\n",
            "My name is Abhiraj, I am 13 and my height is 4.9\n"
          ]
        }
      ]
    },
    {
      "cell_type": "code",
      "source": [
        "# Now let's input address and print it\n",
        "\n",
        "# print home address like this. Notice three lines\n",
        "#    16371 Beverly Dr\n",
        "#    Eden Prairie\n",
        "#    MN 55347\n",
        "\n",
        "house_no = input(\"Enter house number\")\n",
        "street_name=\"\"\n",
        "city_name = \"\"\n",
        "zip_code = \"\"\n",
        "state_code = \"\"\n",
        "\n",
        "print(f\"<Fill in house number and street name>\")\n",
        "print(f\"<Fill in city name\")\n",
        "print(f\"<Fill in state code and zip code>\")"
      ],
      "metadata": {
        "id": "BF_qi4g7VF9F"
      },
      "execution_count": null,
      "outputs": []
    }
  ]
}