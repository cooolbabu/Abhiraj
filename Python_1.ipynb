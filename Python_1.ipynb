{
  "nbformat": 4,
  "nbformat_minor": 0,
  "metadata": {
    "colab": {
      "provenance": [],
      "authorship_tag": "ABX9TyM1a3LmUCKpzOS+q6XamA/D",
      "include_colab_link": true
    },
    "kernelspec": {
      "name": "python3",
      "display_name": "Python 3"
    },
    "language_info": {
      "name": "python"
    }
  },
  "cells": [
    {
      "cell_type": "markdown",
      "metadata": {
        "id": "view-in-github",
        "colab_type": "text"
      },
      "source": [
        "<a href=\"https://colab.research.google.com/github/cooolbabu/Abhiraj/blob/Development/Python_1.ipynb\" target=\"_parent\"><img src=\"https://colab.research.google.com/assets/colab-badge.svg\" alt=\"Open In Colab\"/></a>"
      ]
    },
    {
      "cell_type": "markdown",
      "source": [
        "# First Python program to read text and print text\n",
        "\n",
        "https://www.w3schools.com/python/"
      ],
      "metadata": {
        "id": "uMoRc62GJxrh"
      }
    },
    {
      "cell_type": "code",
      "execution_count": null,
      "metadata": {
        "colab": {
          "base_uri": "https://localhost:8080/"
        },
        "id": "5q9Oix31I4qt",
        "outputId": "31305afd-975a-4163-b438-f07a3ac208b8"
      },
      "outputs": [
        {
          "output_type": "stream",
          "name": "stdout",
          "text": [
            "Hello Abhiraj Angara (Bucchi Kans)\n"
          ]
        }
      ],
      "source": [
        "# print statement\n",
        "\n",
        "print(\"Hello Abhiraj Angara, my (BucchiKans)\")"
      ]
    },
    {
      "cell_type": "code",
      "source": [
        "username = \"Abhiraj\" # string\n",
        "age = 13 # integer. Has no decimal places\n",
        "height = 4.9 # Float has decimal places\n",
        "\n",
        "# Lets print these variables\n",
        "# print is used to show the values assigned to variables\n",
        "\n",
        "print(username, age, height)\n"
      ],
      "metadata": {
        "colab": {
          "base_uri": "https://localhost:8080/"
        },
        "id": "SYjdGn1fKO0l",
        "outputId": "d7fd7c4b-6816-49bf-dc58-20e6547f11fe"
      },
      "execution_count": null,
      "outputs": [
        {
          "output_type": "stream",
          "name": "stdout",
          "text": [
            "Abhiraj 13 4.9\n"
          ]
        }
      ]
    },
    {
      "cell_type": "code",
      "source": [
        "# Let's print it nicely\n",
        "# Notice the letter f. It stands for \"formatting\". We are printing a nicely formatted string\n",
        "\n",
        "print(f\"My name is {username}, I am {age} and my height is {height}\")"
      ],
      "metadata": {
        "colab": {
          "base_uri": "https://localhost:8080/"
        },
        "id": "1MentinvK0Y3",
        "outputId": "af10f3a2-9713-477a-b971-fdebd6cdf61a"
      },
      "execution_count": null,
      "outputs": [
        {
          "output_type": "stream",
          "name": "stdout",
          "text": [
            "My name is Abhiraj, I am 13 and my height is 4.9\n"
          ]
        }
      ]
    },
    {
      "cell_type": "markdown",
      "source": [
        "## Exercise time"
      ],
      "metadata": {
        "id": "6SfSe3OtLTVh"
      }
    },
    {
      "cell_type": "code",
      "source": [
        "# Let's print mom's name nicely. fill in the blanks when you see -fill-\n",
        "\n",
        "mom_name = \"<fill in mom's name>\"\n",
        "\n",
        "print(f\"My mom's name is {mom_name}.\")"
      ],
      "metadata": {
        "colab": {
          "base_uri": "https://localhost:8080/"
        },
        "id": "3L9PaJ1aLSBN",
        "outputId": "5684bb9b-8380-4134-f76d-ee244276d73a"
      },
      "execution_count": null,
      "outputs": [
        {
          "output_type": "stream",
          "name": "stdout",
          "text": [
            "My mom's name is asdf.\n"
          ]
        }
      ]
    },
    {
      "cell_type": "code",
      "source": [
        "# Let's print your home address\n",
        "\n",
        "house_no =\n",
        "street_name=\"\"\n",
        "city_name = \"\"\n",
        "zip_code = \"\"\n",
        "state_code = \"\"\n",
        "\n",
        "# print home address like this. Notice three lines\n",
        "#    16371 Beverly Dr\n",
        "#    Eden Prairie\n",
        "#    MN 55347\n",
        "\n",
        "print(f\"<Fill in house number and street name>\")\n",
        "print(f\"<Fill in city name\")\n",
        "print(f\"<Fill in state code and zip code>\")\n",
        "\n"
      ],
      "metadata": {
        "id": "Z8AFgZmDMgVS"
      },
      "execution_count": null,
      "outputs": []
    },
    {
      "cell_type": "markdown",
      "source": [
        "# Inputs\n",
        "\n"
      ],
      "metadata": {
        "id": "mjPfhJDZNVZ8"
      }
    },
    {
      "cell_type": "code",
      "source": [
        "# input function is used to capture inputs\n",
        "# Prompt message is passed as a parameter\n",
        "# Output of the function is assigned to a variable\n",
        "# print is used to show the values assigned to a variable\n",
        "\n",
        "username = input(\"Enter username:\")\n",
        "print(\"Username is: \" + username)"
      ],
      "metadata": {
        "colab": {
          "base_uri": "https://localhost:8080/"
        },
        "id": "fJK7lnw8Noli",
        "outputId": "a5da52c2-98bb-4041-92e0-06f05b6c9293"
      },
      "execution_count": null,
      "outputs": [
        {
          "output_type": "stream",
          "name": "stdout",
          "text": [
            "Enter username:Abhiraj\n",
            "Username is: Abhiraj\n"
          ]
        }
      ]
    },
    {
      "cell_type": "code",
      "source": [
        "# This is similar to the previous cell. Here we are asking for user input\n",
        "\n",
        "username = input(\"Enter username:\")\n",
        "age = input(\"Age:\")\n",
        "height = input(\"Height:\")\n",
        "\n",
        "print(f\"My name is {username}, I am {age} and my height is {height}\")"
      ],
      "metadata": {
        "colab": {
          "base_uri": "https://localhost:8080/"
        },
        "id": "4dJI96dXOpot",
        "outputId": "146f457e-1e5a-48f9-da7e-11fb0158f831"
      },
      "execution_count": null,
      "outputs": [
        {
          "output_type": "stream",
          "name": "stdout",
          "text": [
            "Enter username:Abhi\n",
            "Age:13\n",
            "Height:5.0\n",
            "My name is Abhiraj, I am 13 and my height is 5.0\n"
          ]
        }
      ]
    },
    {
      "cell_type": "code",
      "source": [
        "# Now let's input address and print it\n",
        "\n",
        "house_no = input(\"Enter house number\")\n",
        "street_name=\"\"\n",
        "city_name = \"\"\n",
        "zip_code = \"\"\n",
        "state_code = \"\"\n",
        "\n",
        "print(f\"<Fill in house number and street name>\")\n",
        "print(f\"<Fill in city name\")\n",
        "print(f\"<Fill in state code and zip code>\")"
      ],
      "metadata": {
        "id": "BF_qi4g7VF9F"
      },
      "execution_count": null,
      "outputs": []
    }
  ]
}